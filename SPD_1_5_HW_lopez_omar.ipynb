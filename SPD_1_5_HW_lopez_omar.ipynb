{
  "nbformat": 4,
  "nbformat_minor": 0,
  "metadata": {
    "colab": {
      "name": "SPD-1.5-HW-lopez-omar.ipynb",
      "provenance": [],
      "collapsed_sections": [],
      "authorship_tag": "ABX9TyNExov/CgC3DefXapMAMUms",
      "include_colab_link": true
    },
    "kernelspec": {
      "name": "python3",
      "display_name": "Python 3"
    },
    "language_info": {
      "name": "python"
    }
  },
  "cells": [
    {
      "cell_type": "markdown",
      "metadata": {
        "id": "view-in-github",
        "colab_type": "text"
      },
      "source": [
        "<a href=\"https://colab.research.google.com/github/omarlopez2001/take-home-project/blob/main/SPD_1_5_HW_lopez_omar.ipynb\" target=\"_parent\"><img src=\"https://colab.research.google.com/assets/colab-badge.svg\" alt=\"Open In Colab\"/></a>"
      ]
    },
    {
      "cell_type": "code",
      "metadata": {
        "id": "1MylnyDlDXE_"
      },
      "source": [
        "from google.colab import drive"
      ],
      "execution_count": 2,
      "outputs": []
    },
    {
      "cell_type": "code",
      "metadata": {
        "colab": {
          "base_uri": "https://localhost:8080/"
        },
        "id": "WVJ6j-5_DlIz",
        "outputId": "bff43f0b-4f5f-4891-a1a6-5ea587c70b04"
      },
      "source": [
        "drive.mount('/content/drive')"
      ],
      "execution_count": 5,
      "outputs": [
        {
          "output_type": "stream",
          "text": [
            "Mounted at /content/drive\n"
          ],
          "name": "stdout"
        }
      ]
    },
    {
      "cell_type": "markdown",
      "metadata": {
        "id": "Xg1mGG_QFkvY"
      },
      "source": [
        "# Import Data"
      ]
    },
    {
      "cell_type": "code",
      "metadata": {
        "id": "JDIojbbgE62o"
      },
      "source": [
        "import pandas as pd"
      ],
      "execution_count": 4,
      "outputs": []
    },
    {
      "cell_type": "code",
      "metadata": {
        "id": "j_1fgTVAE_Yd"
      },
      "source": [
        "# import Seattle Crime Stats data\n",
        "df = pd.read_csv('/content/drive/MyDrive/data/seattle-crime-stats-by-police-precinct-2008-present.csv')"
      ],
      "execution_count": 5,
      "outputs": []
    },
    {
      "cell_type": "code",
      "metadata": {
        "colab": {
          "base_uri": "https://localhost:8080/",
          "height": 419
        },
        "id": "FwHp4obvFGhD",
        "outputId": "15a78dc9-d0c8-48b0-e9e1-f36c325441d7"
      },
      "source": [
        "df"
      ],
      "execution_count": 6,
      "outputs": [
        {
          "output_type": "execute_result",
          "data": {
            "text/html": [
              "<div>\n",
              "<style scoped>\n",
              "    .dataframe tbody tr th:only-of-type {\n",
              "        vertical-align: middle;\n",
              "    }\n",
              "\n",
              "    .dataframe tbody tr th {\n",
              "        vertical-align: top;\n",
              "    }\n",
              "\n",
              "    .dataframe thead th {\n",
              "        text-align: right;\n",
              "    }\n",
              "</style>\n",
              "<table border=\"1\" class=\"dataframe\">\n",
              "  <thead>\n",
              "    <tr style=\"text-align: right;\">\n",
              "      <th></th>\n",
              "      <th>Police Beat</th>\n",
              "      <th>CRIME_TYPE</th>\n",
              "      <th>CRIME_DESCRIPTION</th>\n",
              "      <th>STAT_VALUE</th>\n",
              "      <th>REPORT_DATE</th>\n",
              "      <th>Sector</th>\n",
              "      <th>Precinct</th>\n",
              "      <th>Row_Value_ID</th>\n",
              "    </tr>\n",
              "  </thead>\n",
              "  <tbody>\n",
              "    <tr>\n",
              "      <th>0</th>\n",
              "      <td>R2</td>\n",
              "      <td>Rape</td>\n",
              "      <td>Rape</td>\n",
              "      <td>1</td>\n",
              "      <td>2014-04-30T00:00:00.000</td>\n",
              "      <td>R</td>\n",
              "      <td>SE</td>\n",
              "      <td>27092</td>\n",
              "    </tr>\n",
              "    <tr>\n",
              "      <th>1</th>\n",
              "      <td>K2</td>\n",
              "      <td>Assault</td>\n",
              "      <td>Assault</td>\n",
              "      <td>5</td>\n",
              "      <td>2014-04-30T00:00:00.000</td>\n",
              "      <td>K</td>\n",
              "      <td>W</td>\n",
              "      <td>26506</td>\n",
              "    </tr>\n",
              "    <tr>\n",
              "      <th>2</th>\n",
              "      <td>M2</td>\n",
              "      <td>Homicide</td>\n",
              "      <td>Homicide</td>\n",
              "      <td>1</td>\n",
              "      <td>2014-04-30T00:00:00.000</td>\n",
              "      <td>M</td>\n",
              "      <td>W</td>\n",
              "      <td>27567</td>\n",
              "    </tr>\n",
              "    <tr>\n",
              "      <th>3</th>\n",
              "      <td>C3</td>\n",
              "      <td>Robbery</td>\n",
              "      <td>Robbery</td>\n",
              "      <td>2</td>\n",
              "      <td>2014-04-30T00:00:00.000</td>\n",
              "      <td>C</td>\n",
              "      <td>E</td>\n",
              "      <td>26225</td>\n",
              "    </tr>\n",
              "    <tr>\n",
              "      <th>4</th>\n",
              "      <td>E2</td>\n",
              "      <td>Motor Vehicle Theft</td>\n",
              "      <td>Vehicle Theft is theft of a car, truck, motorc...</td>\n",
              "      <td>7</td>\n",
              "      <td>2014-04-30T00:00:00.000</td>\n",
              "      <td>E</td>\n",
              "      <td>E</td>\n",
              "      <td>26368</td>\n",
              "    </tr>\n",
              "    <tr>\n",
              "      <th>...</th>\n",
              "      <td>...</td>\n",
              "      <td>...</td>\n",
              "      <td>...</td>\n",
              "      <td>...</td>\n",
              "      <td>...</td>\n",
              "      <td>...</td>\n",
              "      <td>...</td>\n",
              "      <td>...</td>\n",
              "    </tr>\n",
              "    <tr>\n",
              "      <th>27120</th>\n",
              "      <td>B2</td>\n",
              "      <td>Homicide</td>\n",
              "      <td>Homicide</td>\n",
              "      <td>0</td>\n",
              "      <td>2008-01-01T00:00:00.000</td>\n",
              "      <td>B</td>\n",
              "      <td>N</td>\n",
              "      <td>8</td>\n",
              "    </tr>\n",
              "    <tr>\n",
              "      <th>27121</th>\n",
              "      <td>B1</td>\n",
              "      <td>Burglary</td>\n",
              "      <td>Burglary</td>\n",
              "      <td>15</td>\n",
              "      <td>2008-01-01T00:00:00.000</td>\n",
              "      <td>B</td>\n",
              "      <td>N</td>\n",
              "      <td>7</td>\n",
              "    </tr>\n",
              "    <tr>\n",
              "      <th>27122</th>\n",
              "      <td>B1</td>\n",
              "      <td>Motor Vehicle Theft</td>\n",
              "      <td>Vehicle Theft is theft of a car, truck, motorc...</td>\n",
              "      <td>4</td>\n",
              "      <td>2008-01-01T00:00:00.000</td>\n",
              "      <td>B</td>\n",
              "      <td>N</td>\n",
              "      <td>6</td>\n",
              "    </tr>\n",
              "    <tr>\n",
              "      <th>27123</th>\n",
              "      <td>B1</td>\n",
              "      <td>Larceny-Theft</td>\n",
              "      <td>Larceny-Theft</td>\n",
              "      <td>35</td>\n",
              "      <td>2008-01-01T00:00:00.000</td>\n",
              "      <td>B</td>\n",
              "      <td>N</td>\n",
              "      <td>5</td>\n",
              "    </tr>\n",
              "    <tr>\n",
              "      <th>27124</th>\n",
              "      <td>B1</td>\n",
              "      <td>Robbery</td>\n",
              "      <td>Robbery</td>\n",
              "      <td>5</td>\n",
              "      <td>2008-01-01T00:00:00.000</td>\n",
              "      <td>B</td>\n",
              "      <td>N</td>\n",
              "      <td>3</td>\n",
              "    </tr>\n",
              "  </tbody>\n",
              "</table>\n",
              "<p>27125 rows × 8 columns</p>\n",
              "</div>"
            ],
            "text/plain": [
              "      Police Beat           CRIME_TYPE  ... Precinct  Row_Value_ID\n",
              "0              R2                 Rape  ...       SE         27092\n",
              "1              K2              Assault  ...        W         26506\n",
              "2              M2             Homicide  ...        W         27567\n",
              "3              C3              Robbery  ...        E         26225\n",
              "4              E2  Motor Vehicle Theft  ...        E         26368\n",
              "...           ...                  ...  ...      ...           ...\n",
              "27120          B2             Homicide  ...        N             8\n",
              "27121          B1             Burglary  ...        N             7\n",
              "27122          B1  Motor Vehicle Theft  ...        N             6\n",
              "27123          B1        Larceny-Theft  ...        N             5\n",
              "27124          B1              Robbery  ...        N             3\n",
              "\n",
              "[27125 rows x 8 columns]"
            ]
          },
          "metadata": {
            "tags": []
          },
          "execution_count": 6
        }
      ]
    },
    {
      "cell_type": "code",
      "metadata": {
        "colab": {
          "base_uri": "https://localhost:8080/",
          "height": 204
        },
        "id": "LKKWcl0rHzRI",
        "outputId": "41b8e6d9-2bc5-4436-cd83-bd39b2cec3b5"
      },
      "source": [
        "df.head()"
      ],
      "execution_count": 7,
      "outputs": [
        {
          "output_type": "execute_result",
          "data": {
            "text/html": [
              "<div>\n",
              "<style scoped>\n",
              "    .dataframe tbody tr th:only-of-type {\n",
              "        vertical-align: middle;\n",
              "    }\n",
              "\n",
              "    .dataframe tbody tr th {\n",
              "        vertical-align: top;\n",
              "    }\n",
              "\n",
              "    .dataframe thead th {\n",
              "        text-align: right;\n",
              "    }\n",
              "</style>\n",
              "<table border=\"1\" class=\"dataframe\">\n",
              "  <thead>\n",
              "    <tr style=\"text-align: right;\">\n",
              "      <th></th>\n",
              "      <th>Police Beat</th>\n",
              "      <th>CRIME_TYPE</th>\n",
              "      <th>CRIME_DESCRIPTION</th>\n",
              "      <th>STAT_VALUE</th>\n",
              "      <th>REPORT_DATE</th>\n",
              "      <th>Sector</th>\n",
              "      <th>Precinct</th>\n",
              "      <th>Row_Value_ID</th>\n",
              "    </tr>\n",
              "  </thead>\n",
              "  <tbody>\n",
              "    <tr>\n",
              "      <th>0</th>\n",
              "      <td>R2</td>\n",
              "      <td>Rape</td>\n",
              "      <td>Rape</td>\n",
              "      <td>1</td>\n",
              "      <td>2014-04-30T00:00:00.000</td>\n",
              "      <td>R</td>\n",
              "      <td>SE</td>\n",
              "      <td>27092</td>\n",
              "    </tr>\n",
              "    <tr>\n",
              "      <th>1</th>\n",
              "      <td>K2</td>\n",
              "      <td>Assault</td>\n",
              "      <td>Assault</td>\n",
              "      <td>5</td>\n",
              "      <td>2014-04-30T00:00:00.000</td>\n",
              "      <td>K</td>\n",
              "      <td>W</td>\n",
              "      <td>26506</td>\n",
              "    </tr>\n",
              "    <tr>\n",
              "      <th>2</th>\n",
              "      <td>M2</td>\n",
              "      <td>Homicide</td>\n",
              "      <td>Homicide</td>\n",
              "      <td>1</td>\n",
              "      <td>2014-04-30T00:00:00.000</td>\n",
              "      <td>M</td>\n",
              "      <td>W</td>\n",
              "      <td>27567</td>\n",
              "    </tr>\n",
              "    <tr>\n",
              "      <th>3</th>\n",
              "      <td>C3</td>\n",
              "      <td>Robbery</td>\n",
              "      <td>Robbery</td>\n",
              "      <td>2</td>\n",
              "      <td>2014-04-30T00:00:00.000</td>\n",
              "      <td>C</td>\n",
              "      <td>E</td>\n",
              "      <td>26225</td>\n",
              "    </tr>\n",
              "    <tr>\n",
              "      <th>4</th>\n",
              "      <td>E2</td>\n",
              "      <td>Motor Vehicle Theft</td>\n",
              "      <td>Vehicle Theft is theft of a car, truck, motorc...</td>\n",
              "      <td>7</td>\n",
              "      <td>2014-04-30T00:00:00.000</td>\n",
              "      <td>E</td>\n",
              "      <td>E</td>\n",
              "      <td>26368</td>\n",
              "    </tr>\n",
              "  </tbody>\n",
              "</table>\n",
              "</div>"
            ],
            "text/plain": [
              "  Police Beat           CRIME_TYPE  ... Precinct  Row_Value_ID\n",
              "0          R2                 Rape  ...       SE         27092\n",
              "1          K2              Assault  ...        W         26506\n",
              "2          M2             Homicide  ...        W         27567\n",
              "3          C3              Robbery  ...        E         26225\n",
              "4          E2  Motor Vehicle Theft  ...        E         26368\n",
              "\n",
              "[5 rows x 8 columns]"
            ]
          },
          "metadata": {
            "tags": []
          },
          "execution_count": 7
        }
      ]
    },
    {
      "cell_type": "code",
      "metadata": {
        "colab": {
          "base_uri": "https://localhost:8080/"
        },
        "id": "nBQso6SNH5Hi",
        "outputId": "6b3e897b-9ba7-4688-898c-4f566941d600"
      },
      "source": [
        "df.shape"
      ],
      "execution_count": 8,
      "outputs": [
        {
          "output_type": "execute_result",
          "data": {
            "text/plain": [
              "(27125, 8)"
            ]
          },
          "metadata": {
            "tags": []
          },
          "execution_count": 8
        }
      ]
    },
    {
      "cell_type": "code",
      "metadata": {
        "colab": {
          "base_uri": "https://localhost:8080/"
        },
        "id": "rf19cDXeIrvQ",
        "outputId": "82e54548-20e6-4290-c9c2-3224596eb285"
      },
      "source": [
        "df.info()"
      ],
      "execution_count": 9,
      "outputs": [
        {
          "output_type": "stream",
          "text": [
            "<class 'pandas.core.frame.DataFrame'>\n",
            "RangeIndex: 27125 entries, 0 to 27124\n",
            "Data columns (total 8 columns):\n",
            " #   Column             Non-Null Count  Dtype \n",
            "---  ------             --------------  ----- \n",
            " 0   Police Beat        27125 non-null  object\n",
            " 1   CRIME_TYPE         27125 non-null  object\n",
            " 2   CRIME_DESCRIPTION  27125 non-null  object\n",
            " 3   STAT_VALUE         27125 non-null  int64 \n",
            " 4   REPORT_DATE        27125 non-null  object\n",
            " 5   Sector             27125 non-null  object\n",
            " 6   Precinct           27125 non-null  object\n",
            " 7   Row_Value_ID       27125 non-null  int64 \n",
            "dtypes: int64(2), object(6)\n",
            "memory usage: 1.7+ MB\n"
          ],
          "name": "stdout"
        }
      ]
    },
    {
      "cell_type": "code",
      "metadata": {
        "id": "8EmhyFAocOnh"
      },
      "source": [
        "import seaborn as sns"
      ],
      "execution_count": 10,
      "outputs": []
    },
    {
      "cell_type": "code",
      "metadata": {
        "colab": {
          "base_uri": "https://localhost:8080/",
          "height": 380
        },
        "id": "RMZInKDZcXn-",
        "outputId": "d56806b4-ca95-4312-cdd2-7f9134ea55cd"
      },
      "source": [
        "# check for missing values.\n",
        "sns.heatmap(df.isnull(), yticklabels=False)"
      ],
      "execution_count": 12,
      "outputs": [
        {
          "output_type": "execute_result",
          "data": {
            "text/plain": [
              "<matplotlib.axes._subplots.AxesSubplot at 0x7f8665536550>"
            ]
          },
          "metadata": {
            "tags": []
          },
          "execution_count": 12
        },
        {
          "output_type": "display_data",
          "data": {
            "image/png": "[encoded data removed]",
            "text/plain": [
              "<Figure size 432x288 with 2 Axes>"
            ]
          },
          "metadata": {
            "tags": [],
            "needs_background": "light"
          }
        }
      ]
    },
    {
      "cell_type": "code",
      "metadata": {
        "id": "JDYuFPRPpzcV"
      },
      "source": [
        "import numpy as np"
      ],
      "execution_count": 16,
      "outputs": []
    },
    {
      "cell_type": "code",
      "metadata": {
        "colab": {
          "base_uri": "https://localhost:8080/",
          "height": 37
        },
        "id": "0dgdgpIdmkek",
        "outputId": "7ecc958b-f6cd-4469-cdc5-56ef9271eb0e"
      },
      "source": [
        "# Most common form of crime.  \n",
        "df['CRIME_TYPE'].max()"
      ],
      "execution_count": 18,
      "outputs": [
        {
          "output_type": "execute_result",
          "data": {
            "application/vnd.google.colaboratory.intrinsic+json": {
              "type": "string"
            },
            "text/plain": [
              "'Robbery'"
            ]
          },
          "metadata": {
            "tags": []
          },
          "execution_count": 18
        }
      ]
    },
    {
      "cell_type": "code",
      "metadata": {
        "colab": {
          "base_uri": "https://localhost:8080/"
        },
        "id": "7Gjj7S0_quIW",
        "outputId": "7c17bb9f-c94a-4e54-a9b3-1b483edd8d4c"
      },
      "source": [
        "# Highest number of a specific crime in one day.\n",
        "df['STAT_VALUE'].max()"
      ],
      "execution_count": 22,
      "outputs": [
        {
          "output_type": "execute_result",
          "data": {
            "text/plain": [
              "137"
            ]
          },
          "metadata": {
            "tags": []
          },
          "execution_count": 22
        }
      ]
    },
    {
      "cell_type": "code",
      "metadata": {
        "colab": {
          "base_uri": "https://localhost:8080/",
          "height": 37
        },
        "id": "ZqzFKy_pu6pD",
        "outputId": "cb94b70f-0278-4a28-94de-c3a6b0b0ecff"
      },
      "source": [
        "# Sector with most crime.\n",
        "df['Sector'].max()"
      ],
      "execution_count": 30,
      "outputs": [
        {
          "output_type": "execute_result",
          "data": {
            "application/vnd.google.colaboratory.intrinsic+json": {
              "type": "string"
            },
            "text/plain": [
              "'W'"
            ]
          },
          "metadata": {
            "tags": []
          },
          "execution_count": 30
        }
      ]
    },
    {
      "cell_type": "code",
      "metadata": {
        "colab": {
          "base_uri": "https://localhost:8080/",
          "height": 37
        },
        "id": "4P0r9-Q9vE6t",
        "outputId": "e8139986-4956-4a7f-a056-c7d6523dceac"
      },
      "source": [
        "#Sector with less crime.\n",
        "df['Sector'].min()"
      ],
      "execution_count": 32,
      "outputs": [
        {
          "output_type": "execute_result",
          "data": {
            "application/vnd.google.colaboratory.intrinsic+json": {
              "type": "string"
            },
            "text/plain": [
              "'B'"
            ]
          },
          "metadata": {
            "tags": []
          },
          "execution_count": 32
        }
      ]
    },
    {
      "cell_type": "code",
      "metadata": {
        "id": "jn7Ryc_W2Kxs"
      },
      "source": [
        "import matplotlib.pyplot as plt"
      ],
      "execution_count": 40,
      "outputs": []
    },
    {
      "cell_type": "code",
      "metadata": {
        "colab": {
          "base_uri": "https://localhost:8080/",
          "height": 265
        },
        "id": "YTlmU-rC2SnS",
        "outputId": "1ba6ea3f-a631-422a-df1f-41a4b14f7bb1"
      },
      "source": [
        "# North areas of sectors seem to have more crime than other areas.\n",
        "df.Precinct.value_counts().plot(kind='pie')"
      ],
      "execution_count": 44,
      "outputs": [
        {
          "output_type": "execute_result",
          "data": {
            "text/plain": [
              "<matplotlib.axes._subplots.AxesSubplot at 0x7f865ecace50>"
            ]
          },
          "metadata": {
            "tags": []
          },
          "execution_count": 44
        },
        {
          "output_type": "display_data",
          "data": {
            "image/png": "[encoded data removed]",
            "text/plain": [
              "<Figure size 432x288 with 1 Axes>"
            ]
          },
          "metadata": {
            "tags": []
          }
        }
      ]
    },
    {
      "cell_type": "code",
      "metadata": {
        "colab": {
          "base_uri": "https://localhost:8080/",
          "height": 386
        },
        "id": "xFjkSpMo5Um-",
        "outputId": "801c58f4-0c33-4aa8-8fb8-c9a13a26843e"
      },
      "source": [
        " sns.displot(df.STAT_VALUE)"
      ],
      "execution_count": 56,
      "outputs": [
        {
          "output_type": "execute_result",
          "data": {
            "text/plain": [
              "<seaborn.axisgrid.FacetGrid at 0x7f865bccc3d0>"
            ]
          },
          "metadata": {
            "tags": []
          },
          "execution_count": 56
        },
        {
          "output_type": "display_data",
          "data": {
            "image/png": "[encoded data removed]",
            "text/plain": [
              "<Figure size 360x360 with 1 Axes>"
            ]
          },
          "metadata": {
            "tags": [],
            "needs_background": "light"
          }
        }
      ]
    },
    {
      "cell_type": "code",
      "metadata": {
        "colab": {
          "base_uri": "https://localhost:8080/",
          "height": 235
        },
        "id": "Nwhb44eA8o_Y",
        "outputId": "48b37bb9-faee-4730-d54c-7b47216fa8c8"
      },
      "source": [
        "top_5_crimes = df.groupby('CRIME_TYPE').agg({'STAT_VALUE': 'sum'}).sort_values('STAT_VALUE', ascending=False)[:5]\n",
        "top_5_crimes"
      ],
      "execution_count": 59,
      "outputs": [
        {
          "output_type": "execute_result",
          "data": {
            "text/html": [
              "<div>\n",
              "<style scoped>\n",
              "    .dataframe tbody tr th:only-of-type {\n",
              "        vertical-align: middle;\n",
              "    }\n",
              "\n",
              "    .dataframe tbody tr th {\n",
              "        vertical-align: top;\n",
              "    }\n",
              "\n",
              "    .dataframe thead th {\n",
              "        text-align: right;\n",
              "    }\n",
              "</style>\n",
              "<table border=\"1\" class=\"dataframe\">\n",
              "  <thead>\n",
              "    <tr style=\"text-align: right;\">\n",
              "      <th></th>\n",
              "      <th>STAT_VALUE</th>\n",
              "    </tr>\n",
              "    <tr>\n",
              "      <th>CRIME_TYPE</th>\n",
              "      <th></th>\n",
              "    </tr>\n",
              "  </thead>\n",
              "  <tbody>\n",
              "    <tr>\n",
              "      <th>Larceny-Theft</th>\n",
              "      <td>139192</td>\n",
              "    </tr>\n",
              "    <tr>\n",
              "      <th>Burglary</th>\n",
              "      <td>42792</td>\n",
              "    </tr>\n",
              "    <tr>\n",
              "      <th>Motor Vehicle Theft</th>\n",
              "      <td>23393</td>\n",
              "    </tr>\n",
              "    <tr>\n",
              "      <th>Assault</th>\n",
              "      <td>12419</td>\n",
              "    </tr>\n",
              "    <tr>\n",
              "      <th>Robbery</th>\n",
              "      <td>9661</td>\n",
              "    </tr>\n",
              "  </tbody>\n",
              "</table>\n",
              "</div>"
            ],
            "text/plain": [
              "                     STAT_VALUE\n",
              "CRIME_TYPE                     \n",
              "Larceny-Theft            139192\n",
              "Burglary                  42792\n",
              "Motor Vehicle Theft       23393\n",
              "Assault                   12419\n",
              "Robbery                    9661"
            ]
          },
          "metadata": {
            "tags": []
          },
          "execution_count": 59
        }
      ]
    },
    {
      "cell_type": "code",
      "metadata": {
        "colab": {
          "base_uri": "https://localhost:8080/",
          "height": 384
        },
        "id": "f_iN7ewQ9wKF",
        "outputId": "33c34c21-d929-4f39-872a-a6912c317fed"
      },
      "source": [
        "top_5_crimes.plot(kind='bar')"
      ],
      "execution_count": 61,
      "outputs": [
        {
          "output_type": "execute_result",
          "data": {
            "text/plain": [
              "<matplotlib.axes._subplots.AxesSubplot at 0x7f865b8f75d0>"
            ]
          },
          "metadata": {
            "tags": []
          },
          "execution_count": 61
        },
        {
          "output_type": "display_data",
          "data": {
            "image/png": "[encoded data removed]",
            "text/plain": [
              "<Figure size 432x288 with 1 Axes>"
            ]
          },
          "metadata": {
            "tags": [],
            "needs_background": "light"
          }
        }
      ]
    }
  ]
}